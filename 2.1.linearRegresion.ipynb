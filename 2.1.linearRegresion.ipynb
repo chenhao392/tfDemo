{
 "cells": [
  {
   "cell_type": "code",
   "execution_count": 1,
   "metadata": {},
   "outputs": [],
   "source": [
    "from __future__ import absolute_import, division, print_function\n",
    "import tensorflow as tf\n",
    "import numpy as np\n",
    "rng = np.random"
   ]
  },
  {
   "cell_type": "code",
   "execution_count": 3,
   "metadata": {},
   "outputs": [],
   "source": [
    "# Parameters.\n",
    "learning_rate = 0.01\n",
    "training_steps = 1000\n",
    "display_step = 50\n",
    "\n",
    "# Training Data.\n",
    "X = np.array([3.3,4.4,5.5,6.71,6.93,4.168,9.779,6.182,7.59,2.167,\n",
    "              7.042,10.791,5.313,7.997,5.654,9.27,3.1])\n",
    "Y = np.array([1.7,2.76,2.09,3.19,1.694,1.573,3.366,2.596,2.53,1.221,\n",
    "              2.827,3.465,1.65,2.904,2.42,2.94,1.3])"
   ]
  },
  {
   "cell_type": "code",
   "execution_count": 4,
   "metadata": {},
   "outputs": [],
   "source": [
    "# Weight and Bias, initialized randomly.\n",
    "# Return a sample (or samples) from the “standard normal” distribution.\n",
    "W = tf.Variable(rng.randn(), name=\"weight\")\n",
    "b = tf.Variable(rng.randn(), name=\"bias\")"
   ]
  },
  {
   "cell_type": "code",
   "execution_count": 6,
   "metadata": {},
   "outputs": [
    {
     "data": {
      "text/plain": [
       "<tf.Variable 'bias:0' shape=() dtype=float32, numpy=-0.51843107>"
      ]
     },
     "execution_count": 6,
     "metadata": {},
     "output_type": "execute_result"
    }
   ],
   "source": [
    "b"
   ]
  },
  {
   "cell_type": "code",
   "execution_count": 7,
   "metadata": {},
   "outputs": [],
   "source": [
    "# Linear regression (Wx + b).\n",
    "def linear_regression(x):\n",
    "    return W * x + b\n",
    "\n",
    "# Mean square error.\n",
    "def mean_square(y_pred, y_true):\n",
    "    return tf.reduce_mean(tf.square(y_pred - y_true))\n",
    "\n",
    "# Stochastic Gradient Descent Optimizer.\n",
    "# Gradient descent (with momentum) optimizer.\n",
    "# Update rule for parameter w with gradient g when momentum is 0:\n",
    "# w = w - learning_rate * g\n",
    "optimizer = tf.optimizers.SGD(learning_rate)"
   ]
  },
  {
   "cell_type": "code",
   "execution_count": 8,
   "metadata": {},
   "outputs": [],
   "source": [
    "# Optimization process. \n",
    "def run_optimization():\n",
    "    # Wrap computation inside a GradientTape for automatic differentiation.\n",
    "    # https://www.tensorflow.org/api_docs/python/tf/GradientTape\n",
    "    # https://zhuanlan.zhihu.com/p/102207302 for GradientTape based diff and batch jacobian matrix\n",
    "    with tf.GradientTape() as g:\n",
    "        pred = linear_regression(X)\n",
    "        loss = mean_square(pred, Y)\n",
    "\n",
    "    # Compute gradients.\n",
    "    # Computes the gradient using operations recorded in context of this tape.\n",
    "    # target: a list or nested structure of Tensors or Variables to be differentiated.\n",
    "    # source: a list or nested structure of Tensors or Variables. \n",
    "    #         target will be differentiated against elements in sources.\n",
    "    gradients = g.gradient(loss, [W, b])\n",
    "    \n",
    "    # Update W and b following gradients.\n",
    "    # Ask the optimizer to apply the processed gradients.\n",
    "    # https://www.tensorflow.org/api_docs/python/tf/keras/optimizers/Optimizer\n",
    "    optimizer.apply_gradients(zip(gradients, [W, b]))"
   ]
  },
  {
   "cell_type": "code",
   "execution_count": 9,
   "metadata": {},
   "outputs": [
    {
     "name": "stdout",
     "output_type": "stream",
     "text": [
      "step: 50, loss: 0.335163, W: 0.422333, b: -0.411374\n",
      "step: 100, loss: 0.296041, W: 0.402799, b: -0.272887\n",
      "step: 150, loss: 0.265362, W: 0.385501, b: -0.150247\n",
      "step: 200, loss: 0.241302, W: 0.370182, b: -0.041642\n",
      "step: 250, loss: 0.222433, W: 0.356616, b: 0.054535\n",
      "step: 300, loss: 0.207636, W: 0.344602, b: 0.139706\n",
      "step: 350, loss: 0.196032, W: 0.333963, b: 0.215130\n",
      "step: 400, loss: 0.186932, W: 0.324542, b: 0.281923\n",
      "step: 450, loss: 0.179795, W: 0.316199, b: 0.341072\n",
      "step: 500, loss: 0.174199, W: 0.308810, b: 0.393453\n",
      "step: 550, loss: 0.169809, W: 0.302267, b: 0.439840\n",
      "step: 600, loss: 0.166367, W: 0.296473, b: 0.480918\n",
      "step: 650, loss: 0.163668, W: 0.291342, b: 0.517295\n",
      "step: 700, loss: 0.161551, W: 0.286798, b: 0.549510\n",
      "step: 750, loss: 0.159891, W: 0.282774, b: 0.578037\n",
      "step: 800, loss: 0.158589, W: 0.279211, b: 0.603301\n",
      "step: 850, loss: 0.157568, W: 0.276055, b: 0.625673\n",
      "step: 900, loss: 0.156768, W: 0.273261, b: 0.645485\n",
      "step: 950, loss: 0.156140, W: 0.270786, b: 0.663030\n",
      "step: 1000, loss: 0.155647, W: 0.268594, b: 0.678567\n"
     ]
    }
   ],
   "source": [
    "# Run training for the given number of steps.\n",
    "for step in range(1, training_steps + 1):\n",
    "    # Run the optimization to update W and b values.\n",
    "    run_optimization()\n",
    "    \n",
    "    if step % display_step == 0:\n",
    "        pred = linear_regression(X)\n",
    "        loss = mean_square(pred, Y)\n",
    "        print(\"step: %i, loss: %f, W: %f, b: %f\" % (step, loss, W.numpy(), b.numpy()))"
   ]
  },
  {
   "cell_type": "code",
   "execution_count": 10,
   "metadata": {},
   "outputs": [
    {
     "data": {
      "image/png": "[encoded data removed]",
      "text/plain": [
       "<Figure size 432x288 with 1 Axes>"
      ]
     },
     "metadata": {
      "needs_background": "light"
     },
     "output_type": "display_data"
    }
   ],
   "source": [
    "import matplotlib.pyplot as plt\n",
    "# Graphic display\n",
    "plt.plot(X, Y, 'ro', label='Original data')\n",
    "plt.plot(X, np.array(W * X + b), label='Fitted line')\n",
    "plt.legend()\n",
    "plt.show()"
   ]
  },
  {
   "cell_type": "code",
   "execution_count": 11,
   "metadata": {},
   "outputs": [
    {
     "data": {
      "text/plain": [
       "array([1.5649283, 1.860382 , 2.1558356, 2.4808347, 2.5399253, 1.7980682,\n",
       "       3.3051505, 2.339017 , 2.7171977, 1.2606109, 2.5700078, 3.576968 ,\n",
       "       2.1056085, 2.8265157, 2.197199 , 3.168436 , 1.5112094],\n",
       "      dtype=float32)"
      ]
     },
     "execution_count": 11,
     "metadata": {},
     "output_type": "execute_result"
    }
   ],
   "source": [
    "np.array(W * X + b)"
   ]
  }
 ],
 "metadata": {
  "kernelspec": {
   "display_name": "Python 3",
   "language": "python",
   "name": "python3"
  },
  "language_info": {
   "codemirror_mode": {
    "name": "ipython",
    "version": 3
   },
   "file_extension": ".py",
   "mimetype": "text/x-python",
   "name": "python",
   "nbconvert_exporter": "python",
   "pygments_lexer": "ipython3",
   "version": "3.8.5"
  }
 },
 "nbformat": 4,
 "nbformat_minor": 4
}
